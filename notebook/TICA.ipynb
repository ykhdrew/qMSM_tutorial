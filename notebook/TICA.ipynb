{
 "cells": [
  {
   "cell_type": "markdown",
   "metadata": {},
   "source": [
    "<h1>Dimensionality Reduction with TICA<h1>"
   ]
  },
  {
   "cell_type": "code",
   "execution_count": null,
   "metadata": {},
   "outputs": [],
   "source": [
    "from msmbuilder.io import load_trajs, save_trajs, save_generic\n",
    "from msmbuilder.decomposition import tICA\n",
    "import numpy as np\n",
    "import os\n",
    "\n",
    "def run_tica(featdir,no_of_traj,ticadir,index_dir=None):\n",
    "    \"\"\"\n",
    "    Running tlCA based on feature selection from Spectral oASIS and save the output\n",
    "\n",
    "    Parameters\n",
    "    ----------\n",
    "    featdir : string\n",
    "        Directory of full features\n",
    "    no_of_traj : int\n",
    "        Number of trajectorues from MD simulation\n",
    "    ticadir : string\n",
    "        Directory for saving tlCA output\n",
    "\n",
    "    Optional Parameters\n",
    "    -------------------\n",
    "    index_dir: str, Default=ticadir\n",
    "        Directory for the column index from Spectral oASIS\n",
    "    \"\"\"\n",
    "    #Setting up the parameters\n",
    "    no_of_features=[20,24,28]\n",
    "    tica_lagtime=[[2,4,6],[2,4,6],[2,4,6],[2,4,6]] # the tlCA lag time when running tlCA with different feature size\n",
    "    #Load Dat\n",
    "    pairwise_distance=[]\n",
    "    for i in range(no_of_traj):\n",
    "        temp=np.load(\"{}features/{}.npy\".format(featdir,i))\n",
    "        pairwise_distance.append(temp)\n",
    "    pairwise_distance=np.array(pairwise_distance)\n",
    "\n",
    "\n",
    "    for n,nth in enumerate(no_of_features):\n",
    "        for m in range(0,len(tica_lagtime[n])):\n",
    "            ftrajs={}\n",
    "            columns=np.loadtxt(\"{}{}/feature_column{}_ticalag_{}.txt\".format(index_dir,tica_lagtime[n][m],\n",
    "                                                                             nth,tica_lagtime[n][m]),dtype=int)\n",
    "            for i in range(len(pairwise_distance)):\n",
    "                ftrajs[i]=pairwise_distance[i][:,columns]\n",
    "            tica = tICA(n_components=10, lag_time=tica_lagtime[n][m], kinetic_mapping=True)\n",
    "    ## Fit\n",
    "            tica.fit(ftrajs.values())\n",
    "    ## Transform\n",
    "            ttrajs = {}\n",
    "            for k, v in ftrajs.items():\n",
    "                ttrajs[k] = tica.partial_transform(v)\n",
    "            os.system(\"mkdir -p {}{}/tica_lag{}\".format(ticadir,nth,int(tica_lagtime[n][m])))\n",
    "            for keys in ttrajs:\n",
    "                np.save(\"{}{}/tica_lag{}/{}.npy\".format(ticadir,nth,int(tica_lagtime[n][m]),keys),ttrajs[keys])\n",
    "            save_generic(tica, \"{}{}/tica_lag{}/tica.pickl\".format(ticadir,nth,int(tica_lagtime[n][m])))\n",
    "            \n",
    "ticadir=\"./TICA/\"\n",
    "featdir=\"./Featurization/\"\n",
    "spectraldir=\"./SpectralOasis/\"\n",
    "no_of_traj=100\n",
    "run_tica(featdir,no_of_traj,ticadir,index_dir=spectraldir)"
   ]
  }
 ],
 "metadata": {
  "kernelspec": {
   "display_name": "Python 3",
   "language": "python",
   "name": "python3"
  },
  "language_info": {
   "codemirror_mode": {
    "name": "ipython",
    "version": 3
   },
   "file_extension": ".py",
   "mimetype": "text/x-python",
   "name": "python",
   "nbconvert_exporter": "python",
   "pygments_lexer": "ipython3",
   "version": "3.6.12"
  }
 },
 "nbformat": 4,
 "nbformat_minor": 4
}
