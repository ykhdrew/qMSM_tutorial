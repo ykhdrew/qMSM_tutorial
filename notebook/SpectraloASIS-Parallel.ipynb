{
 "cells": [
  {
   "cell_type": "code",
   "execution_count": null,
   "metadata": {},
   "outputs": [],
   "source": [
    "#Remember to load another conda environment with pyEMMA 2.5.7\n",
    "%matplotlib inline\n",
    "import os\n",
    "import numpy as np\n",
    "import pandas as pd\n",
    "from pyemma.coordinates.transform._tica_base import *\n",
    "from pyemma.coordinates.transform.nystroem_tica import *\n",
    "from pyemma.coordinates import tica\n",
    "import matplotlib.pyplot  as plt\n",
    "import pickle\n",
    "from multiprocessing import Pool\n",
    "import itertools"
   ]
  },
  {
   "cell_type": "markdown",
   "metadata": {},
   "source": [
    "<h1> Spectral oASIS <h1>"
   ]
  },
  {
   "cell_type": "code",
   "execution_count": null,
   "metadata": {},
   "outputs": [],
   "source": [
    "#Loading features\n",
    "os.makedirs('./SpectralOasis/',exist_ok=True)\n",
    "featdir=\"./Featurization/\"\n",
    "spectraldir=\"./SpectralOasis/\"\n",
    "input_feature_data=[]\n",
    "\n",
    "for i in range(100):\n",
    "    temp=np.load(featdir+(\"features/{}.npy\").format(i))\n",
    "    input_feature_data.append(temp)\n",
    "\n"
   ]
  },
  {
   "cell_type": "code",
   "execution_count": null,
   "metadata": {},
   "outputs": [],
   "source": [
    "#Preparing a list for the number of features tested and \n",
    "#Setting up parameters to run run_SpectraloASIS() in parallel\n",
    "lt=[0.2,0.4,0.6]\n",
    "dt=0.1\n",
    "lts_in_steps=[ int(round(i/dt)) for i in lt]\n",
    "num_features = input_feature_data[0].shape[1]\n",
    "columns=[4,8,12,16,20,24,28]\n",
    "parameters=[(a,b) for a in columns for b in lts_in_steps]\n",
    "print(\"no. of features tested: \", columns)"
   ]
  },
  {
   "cell_type": "code",
   "execution_count": null,
   "metadata": {},
   "outputs": [],
   "source": [
    "def run_SpectraloASIS(max_columns,lt,dt=dt,num_features=num_features,\n",
    "                      input_feature_data=input_feature_data,\n",
    "                      spectraldir=\"./SpectralOasis/\"):\n",
    "    \"\"\"\n",
    "    Running Spectral oASIS \n",
    "\n",
    "    Parameters\n",
    "    ----------\n",
    "    max_columns : int\n",
    "        The number of features to be selected\n",
    "\n",
    "    input_feature_data: list containing ndarrays(dtype=int) or ndarray(n, dtype=int))\n",
    "        features to be selected\n",
    "\n",
    "    num_features: int\n",
    "        The number of features in the full set\n",
    "\n",
    "    spectraldir: str, default=\"./SpectralOasis/\"\n",
    "        The directory to save output\n",
    "\n",
    "    Return\n",
    "    ----------\n",
    "    t.timescales:\n",
    "         timescales for tlCA perform with this number of features\n",
    "\n",
    "    \"\"\"\n",
    "    t = NystroemTICA(lt, max_columns, initial_columns=np.random.choice(num_features,1,replace=False), nsel=1)\n",
    "    # You may want to increase the variables nsel to a higher number e.g. 50  when dealing with large numbers of features in your dataset\n",
    "    # The alanine dipeptide dataset just has too few features....\n",
    "    t.estimate(input_feature_data)   ##running oasis_tica\n",
    "    os.makedirs('{}{}'.format(spectraldir,int(lt)),exist_ok=True)\n",
    "    np.savetxt(\"{}{}/feature_column{}_ticalag_{}.txt\".format(spectraldir,int(lt),max_columns,int(lt)), t.column_indices, fmt='%d')\n",
    "    np.savetxt(\"{}{}/timescales_column{}_ticalag_{}.txt\".format(spectraldir,int(lt),max_columns,int(lt)), t.timescales)\n",
    "    return lt,max_columns,t.timescales\n",
    "\n",
    "with Pool() as pool: \n",
    "    results = pool.starmap(run_SpectraloASIS,parameters)\n",
    "\n",
    "df = pd.DataFrame(results)\n",
    "df.to_pickle(\"{}timescales.pickl\".format(spectraldir))  \n",
    "\n"
   ]
  },
  {
   "cell_type": "code",
   "execution_count": null,
   "metadata": {
    "scrolled": true
   },
   "outputs": [],
   "source": [
    "columns_=[ i for i in columns]\n",
    "columns_.append(num_features)\n",
    "\n",
    "data=pd.read_pickle(\"{}timescales.pickl\".format(spectraldir))\n",
    "for n in lts_in_steps:\n",
    "    t_timescales=data.loc[data[0] == n][2].values\n",
    "    timescales=[]\n",
    "    for i in range(0,len(columns_)-1):\n",
    "        timescales.append(t_timescales[i][0])\n",
    "    TICA=tica(input_feature_data, lag=n) #Calculating tlCA timescales for full features\n",
    "    timescales.append(TICA.timescales[0])\n",
    "    timescales=np.array(timescales)*dt\n",
    "    #Plotting the tlCA timescales against number of features. We will pick the feature set when tlCA timescales is converged.\n",
    "    f,ax=plt.subplots(figsize=(8,4))\n",
    "    ax.plot(columns_, timescales,\"-o\", color=\"b\", lw=4)\n",
    "    ax.plot([-1,num_features+1], [timescales[-1], timescales[-1]], color=\"k\", lw=4, linestyle=\":\")\n",
    "    ax.set_ylabel(\"Timescale (ps)\", fontsize=16)\n",
    "    ax.set_xlabel(\"No. of Features\", fontsize=16)\n",
    "    ax.set_xlim(-1,num_features+1)\n",
    "    ax.set_title(\"Lagtime={0:.1f}ps\".format(n*dt),fontsize=18)\n",
    "    ax.tick_params(axis='both',labelsize=16)\n",
    "    plt.tight_layout()\n",
    "    \n",
    "    plt.savefig(spectraldir+\"Timescale_vs_FeatureNo_ticalag_{0:.1f}.png\".format(n*dt))\n"
   ]
  },
  {
   "cell_type": "code",
   "execution_count": null,
   "metadata": {},
   "outputs": [],
   "source": []
  }
 ],
 "metadata": {
  "kernelspec": {
   "display_name": "Python 3",
   "language": "python",
   "name": "python3"
  },
  "language_info": {
   "codemirror_mode": {
    "name": "ipython",
    "version": 3
   },
   "file_extension": ".py",
   "mimetype": "text/x-python",
   "name": "python",
   "nbconvert_exporter": "python",
   "pygments_lexer": "ipython3",
   "version": "3.6.12"
  }
 },
 "nbformat": 4,
 "nbformat_minor": 4
}
