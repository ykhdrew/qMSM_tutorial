{
 "cells": [
  {
   "cell_type": "code",
   "execution_count": null,
   "metadata": {},
   "outputs": [],
   "source": [
    "#Remember to load another conda environment with pyEMMA 2.5.7\n",
    "%matplotlib inline\n",
    "import os\n",
    "import numpy as np\n",
    "import pandas as pd\n",
    "from pyemma.coordinates.transform.tica import *\n",
    "from pyemma.coordinates.transform._tica_base import *\n",
    "from pyemma.coordinates.transform.nystroem_tica import *\n",
    "from pyemma.coordinates import tica\n",
    "import matplotlib\n",
    "import matplotlib.pyplot  as plt\n",
    "import matplotlib.ticker as mticker\n",
    "import pickle\n",
    "from multiprocessing import Pool"
   ]
  },
  {
   "cell_type": "markdown",
   "metadata": {},
   "source": [
    "<h1> Spectral oASIS <h1>"
   ]
  },
  {
   "cell_type": "code",
   "execution_count": null,
   "metadata": {},
   "outputs": [],
   "source": [
    "#Loading features\n",
    "os.makedirs('./SpectralOasis/',exist_ok=True)\n",
    "featdir=\"./Featurization/\"\n",
    "spectraldir=\"./SpectralOasis/\"\n",
    "input_feature_data=[]\n",
    "\n",
    "for i in range(84):\n",
    "    temp=np.load(featdir+(\"features/{}.npy\").format(i))\n",
    "    input_feature_data.append(temp)\n",
    "\n",
    "#Setting up parameters to run run_SpectraloASIS() in parallel\n",
    "lt=300\n",
    "dt=0.2\n",
    "lt=int(lt/dt)\n",
    "num_features = input_feature_data[0].shape[1]\n"
   ]
  },
  {
   "cell_type": "code",
   "execution_count": null,
   "metadata": {},
   "outputs": [],
   "source": [
    "#Preparing a list for the number of features tested\n",
    "columns=[10]\n",
    "tens=0\n",
    "num_temp=num_features\n",
    "while num_temp>1:\n",
    "    num_temp=num_temp/10\n",
    "    tens+=1\n",
    "\n",
    "tens=tens-1\n",
    "interval=int(10**(tens-1))*2\n",
    "columns.append(int(interval/2))\n",
    "columns.extend(np.arange(interval, num_features, interval).tolist())\n",
    "print(\"no. of features tested: \", columns)\n",
    "\n"
   ]
  },
  {
   "cell_type": "code",
   "execution_count": null,
   "metadata": {},
   "outputs": [],
   "source": [
    "def run_SpectraloASIS(max_columns,lt=lt,num_features=num_features,\n",
    "                      input_feature_data=input_feature_data,\n",
    "                      spectraldir=\"./SpectralOasis/\"):\n",
    "    \"\"\"\n",
    "    Running Spectral oASIS \n",
    "\n",
    "    Parameters\n",
    "    ----------\n",
    "    max_columns : int\n",
    "        The number of features to be selected\n",
    "\n",
    "    input_feature_data: list containing ndarrays(dtype=int) or ndarray(n, dtype=int))\n",
    "        features to be selected\n",
    "\n",
    "    num_features: int\n",
    "        The number of features in the full set\n",
    "\n",
    "    spectraldir: str, default=\"./SpectralOasis/\"\n",
    "        The directory to save output\n",
    "\n",
    "    Return\n",
    "    ----------\n",
    "    t.timescales:\n",
    "         timescales for tlCA perform with this number of features\n",
    "\n",
    "    \"\"\"\n",
    "\n",
    "    t = NystroemTICA(lt, max_columns, initial_columns=np.random.choice(num_features,1,replace=False), nsel=10)\n",
    "    t.estimate(input_feature_data)   #######running oasis_tica\n",
    "    np.savetxt(spectraldir+\"feature_column{}_ticalag_1500.txt\".format(max_columns), t.column_indices, fmt='%d')\n",
    "    np.savetxt(spectraldir+\"timescales_column{}_ticalag_1500.txt\".format(max_columns), t.timescales)\n",
    "    return max_columns,t.timescales\n",
    "\n",
    "with Pool() as pool: #use 5 cpus\n",
    "    t_timescales = dict(pool.imap_unordered(run_SpectraloASIS, columns))\n",
    "\n",
    "\n",
    "with open(\"{}t_timescales.pickl\".format(spectraldir), 'wb') as fp:\n",
    "    pickle.dump(t_timescales, fp, protocol=pickle.HIGHEST_PROTOCOL)   "
   ]
  },
  {
   "cell_type": "code",
   "execution_count": null,
   "metadata": {},
   "outputs": [],
   "source": [
    "t_timescales=pd.read_pickle(\"{}t_timescales.pickl\".format(spectraldir))\n",
    "columns_=[]\n",
    "timescales=[]\n",
    "for i in columns:\n",
    "        columns_.append(i)\n",
    "        timescales.append(t_timescales[i][0])\n",
    "columns_.append(num_features)\n",
    "TICA=tica(input_feature_data, lag=lt) #Calculating tlCA timescales for full features\n",
    "timescales.append(TICA.timescales[0])\n",
    "timescales=np.array(timescales)*dt\n"
   ]
  },
  {
   "cell_type": "code",
   "execution_count": null,
   "metadata": {},
   "outputs": [],
   "source": [
    "#Plotting the tlCA timescales against number of features. We will pick the feature set when tlCA timescales is converged.\n",
    "f,ax=plt.subplots(figsize=(8,4))\n",
    "ax.plot(columns_, timescales, color=\"b\", lw=4)\n",
    "ax.scatter(columns_, timescales, color=\"b\", s=30, marker=\"o\")\n",
    "ax.plot([-1,num_features+1], [timescales[-1], timescales[-1]], color=\"k\", lw=4, linestyle=\":\")\n",
    "ax.set_ylabel(\"Slowest tICA timescale (ns)\", fontsize=16)\n",
    "ax.set_xlabel(\"No. of Features\", fontsize=16)\n",
    "ax.set_xlim(-1,num_features+1)\n",
    "ax.set_yscale('log')\n",
    "y_ticks=[y for y in range(2000,10000,1000)]\n",
    "ax.set_yticks(y_ticks)\n",
    "ax.tick_params(axis='both',labelsize=16)\n",
    "plt.tight_layout()\n",
    "plt.savefig(spectraldir+\"SlowestTicaTimescale_vs_FeatureNumbers.png\")\n"
   ]
  }
 ],
 "metadata": {
  "kernelspec": {
   "display_name": "Python 3",
   "language": "python",
   "name": "python3"
  },
  "language_info": {
   "codemirror_mode": {
    "name": "ipython",
    "version": 3
   },
   "file_extension": ".py",
   "mimetype": "text/x-python",
   "name": "python",
   "nbconvert_exporter": "python",
   "pygments_lexer": "ipython3",
   "version": "3.6.12"
  }
 },
 "nbformat": 4,
 "nbformat_minor": 4
}
