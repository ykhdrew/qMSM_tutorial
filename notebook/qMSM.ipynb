{
 "cells": [
  {
   "cell_type": "markdown",
   "metadata": {
    "scrolled": true
   },
   "source": [
    "<font size=\"5\">qMSM </font>"
   ]
  },
  {
   "cell_type": "code",
   "execution_count": null,
   "metadata": {
    "scrolled": true
   },
   "outputs": [],
   "source": [
    "%matplotlib inline\n",
    "import sys\n",
    "sys.path.append('./qMSM')\n",
    "from QuasiMSM_ModuleBuilder import *\n",
    "import numpy as np\n",
    "\n",
    "qmsm_dir='./qMSM/'\n",
    "input_data = np.loadtxt(\"./qMSM/smoothed_TPM.txt\", dtype=float)\n",
    "#The unit of the graphs shared the same unit as the lag time. In our tutorial, this unit is 1ns.\n",
    "qmsm = QuasiMSM(input_len=160, delat_time=1, dimension=4)\n",
    "qmsm.GetData(input_data)\n",
    "qmsm.Pre_SetData()\n",
    "qmsm.Get_dTPM_dt()\n",
    "km = qmsm.Calculate_K_matrix(cal_step=80)\n",
    "qmsm.MeanIntegralKernel(MIK_time=80, figure=True,outdir=qmsm_dir)"
   ]
  },
  {
   "cell_type": "code",
   "execution_count": null,
   "metadata": {},
   "outputs": [],
   "source": [
    "qmsm_tpm, qmsm_tpm_time = qmsm.QuasiMSMPrediction(kernel_matrix=km, tau_k=50, end_point=160,outasfile=False,outdir=qmsm_dir)\n",
    "msm_tpm, msm_tpm_time = qmsm.MSMPrediction(tau=5, end_point=150, add_iden_mat=True)\n",
    "qmsm.CK_figure(qMSM_TPM=qmsm_tpm_time, MSM_TPM=msm_tpm_time, add_iden_mat=True, diag=True,grid=[4,4], slice_dot=10, outdir=qmsm_dir)\n",
    "qMSM_RMSE, MSM_RMSE=qmsm.RMSE(kernel=km, end_point=80, figure=True, outasfile=False,outdir=qmsm_dir)"
   ]
  },
  {
   "cell_type": "code",
   "execution_count": null,
   "metadata": {},
   "outputs": [],
   "source": []
  }
 ],
 "metadata": {
  "kernelspec": {
   "display_name": "Python 3",
   "language": "python",
   "name": "python3"
  },
  "language_info": {
   "codemirror_mode": {
    "name": "ipython",
    "version": 3
   },
   "file_extension": ".py",
   "mimetype": "text/x-python",
   "name": "python",
   "nbconvert_exporter": "python",
   "pygments_lexer": "ipython3",
   "version": "3.6.12"
  }
 },
 "nbformat": 4,
 "nbformat_minor": 4
}
