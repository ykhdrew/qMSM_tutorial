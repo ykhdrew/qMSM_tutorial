{
 "cells": [
  {
   "cell_type": "code",
   "execution_count": 3,
   "metadata": {},
   "outputs": [
    {
     "ename": "ModuleNotFoundError",
     "evalue": "No module named 'msmbuilder'",
     "output_type": "error",
     "traceback": [
      "\u001b[0;31m---------------------------------------------------------------------------\u001b[0m",
      "\u001b[0;31mModuleNotFoundError\u001b[0m                       Traceback (most recent call last)",
      "\u001b[0;32m<ipython-input-3-7afc069eb655>\u001b[0m in \u001b[0;36m<module>\u001b[0;34m\u001b[0m\n\u001b[1;32m      1\u001b[0m \u001b[0;32mfrom\u001b[0m \u001b[0mitertools\u001b[0m \u001b[0;32mimport\u001b[0m \u001b[0mcombinations\u001b[0m\u001b[0;34m\u001b[0m\u001b[0;34m\u001b[0m\u001b[0m\n\u001b[0;32m----> 2\u001b[0;31m \u001b[0;32mfrom\u001b[0m \u001b[0mmsmbuilder\u001b[0m\u001b[0;34m.\u001b[0m\u001b[0mfeaturizer\u001b[0m \u001b[0;32mimport\u001b[0m \u001b[0mAtomPairsFeaturizer\u001b[0m\u001b[0;34m\u001b[0m\u001b[0;34m\u001b[0m\u001b[0m\n\u001b[0m\u001b[1;32m      3\u001b[0m \u001b[0;32mimport\u001b[0m \u001b[0mos\u001b[0m\u001b[0;34m\u001b[0m\u001b[0;34m\u001b[0m\u001b[0m\n\u001b[1;32m      4\u001b[0m \u001b[0;32mimport\u001b[0m \u001b[0mnumpy\u001b[0m \u001b[0;32mas\u001b[0m \u001b[0mnp\u001b[0m\u001b[0;34m\u001b[0m\u001b[0;34m\u001b[0m\u001b[0m\n\u001b[1;32m      5\u001b[0m \u001b[0;32mimport\u001b[0m \u001b[0mmdtraj\u001b[0m \u001b[0;32mas\u001b[0m \u001b[0mmd\u001b[0m\u001b[0;34m\u001b[0m\u001b[0;34m\u001b[0m\u001b[0m\n",
      "\u001b[0;31mModuleNotFoundError\u001b[0m: No module named 'msmbuilder'"
     ]
    }
   ],
   "source": [
    "from itertools import combinations\n",
    "from msmbuilder.featurizer import AtomPairsFeaturizer\n",
    "import os\n",
    "import numpy as np\n",
    "import mdtraj as md"
   ]
  },
  {
   "cell_type": "code",
   "execution_count": 7,
   "metadata": {},
   "outputs": [],
   "source": [
    "def create_pairwise_index(atomindex_file):\n",
    "    \"\"\"\n",
    "    Create pair-wise index for pdb files from input and remove redundant pairs\n",
    "\n",
    "    Parameters\n",
    "    ----------\n",
    "    atomindex_file:\n",
    "        Text file containing the atom index for featurization\n",
    "\n",
    "    Return\n",
    "    ----------\n",
    "    pairwise_index: list\n",
    "        a list of pairwise index\n",
    "\n",
    "    \"\"\"\n",
    "    tmp_array=[]\n",
    "    counter=0\n",
    "    for line in open(atomindex_file):\n",
    "        line=line.strip().split()\n",
    "        for i in range(len(line)):\n",
    "            if ((counter==0)&(i==0)):  # the first number in the index file of msmbuilder1 is the total number\n",
    "                continue\n",
    "            else:\n",
    "                tmp_array.append(int(line[i])-1) # starting from 0 and shift the atom index in pdb by 1;\n",
    "        counter+=1\n",
    "    output_array = np.unique(tmp_array)\n",
    "    pairwise_index=list(combinations(output_array, 2))\n",
    "    return pairwise_index"
   ]
  },
  {
   "cell_type": "code",
   "execution_count": 10,
   "metadata": {},
   "outputs": [],
   "source": [
    "def feat(atom_pairs_feat,traj_name,topfile):\n",
    "    \"\"\"\n",
    "    Use AtomPairsFeaturizer from MSMbuilder to featurize a trajectory\n",
    "\n",
    "    Parameters\n",
    "    ----------\n",
    "    atom_pairs_feat:\n",
    "        AtomPairsFeaturizer from MSMbuilder\n",
    "\n",
    "    traj_name:\n",
    "        Directory to the MD trajectories\n",
    "\n",
    "    topfile:\n",
    "        PDB file for the topology of trajectories\n",
    "    Return\n",
    "    ----------\n",
    "    pairwise_index:\n",
    "        a list of pairwise index\n",
    "    \"\"\"\n",
    "    traj = md.load(traj_name, top=topfile)\n",
    "    feat_traj = atom_pairs_feat.partial_transform(traj)\n",
    "    return feat_traj"
   ]
  },
  {
   "cell_type": "code",
   "execution_count": null,
   "metadata": {
    "scrolled": false
   },
   "outputs": [],
   "source": [
    "featdir=\"./Featurization/\"\n",
    "trajDir=\"./trajs/\"\n",
    "topfile = trajDir+\"npt_fit.pdb\"\n",
    "\n",
    "#Create pairwise index\n",
    "atom_set =featdir+\"AtomIndices.dat\"\n",
    "atom_pair_list=create_pairwise_index(atom_set)\n",
    "np.savetxt(featdir+\"atom_pair_list.dat\",atom_pair_list,fmt='%d')\n",
    "\n",
    "#Prepare an index for trajectories\n",
    "from glob import glob\n",
    "import re\n",
    "trajlist=glob(trajDir+\"*.xtc\")\n",
    "trajlist.sort(key=lambda f: int(re.sub('\\D', '', f)))\n",
    "\n",
    "#Featurize trajectories\n",
    "os.makedirs(featdir+\"features\",exist_ok=True)\n",
    "atom_pairs_feat = AtomPairsFeaturizer(atom_pair_list)\n",
    "for n,i in enumerate(trajlist):\n",
    "    feat_ = feat(atom_pairs_feat,i,topfile)\n",
    "    np.save(\"{}features/{}.npy\".format(featdir,n), feat_)"
   ]
  }
 ],
 "metadata": {
  "kernelspec": {
   "display_name": "Python 3",
   "language": "python",
   "name": "python3"
  },
  "language_info": {
   "codemirror_mode": {
    "name": "ipython",
    "version": 3
   },
   "file_extension": ".py",
   "mimetype": "text/x-python",
   "name": "python",
   "nbconvert_exporter": "python",
   "pygments_lexer": "ipython3",
   "version": "3.6.12"
  }
 },
 "nbformat": 4,
 "nbformat_minor": 5
}
